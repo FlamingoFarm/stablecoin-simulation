{
 "cells": [
  {
   "cell_type": "markdown",
   "id": "2dd2c3e0",
   "metadata": {},
   "source": [
    "# Stablecoin Simulation"
   ]
  },
  {
   "cell_type": "markdown",
   "id": "34830165",
   "metadata": {},
   "source": [
    "---"
   ]
  },
  {
   "cell_type": "markdown",
   "id": "aa3a6cb9",
   "metadata": {},
   "source": [
    "This notebook is part of a stablecoin project."
   ]
  },
  {
   "cell_type": "markdown",
   "id": "535734af",
   "metadata": {},
   "source": [
    "---"
   ]
  },
  {
   "cell_type": "markdown",
   "id": "7b58399e",
   "metadata": {},
   "source": [
    "# Table of Contents\n",
    "\n",
    "1. [System Requirements](#1.-System-Requirements)\n",
    "  * [Requirements Anaylsis](#Requirements-Analysis)\n",
    "  * [Visual System Mappings](#Visual-System-Mappings)\n",
    "  * [Mathematical Specification](#Mathematical-Specification)\n",
    "\n",
    "\n",
    "2. [System Design](#2.-System-Design)\n",
    "  * [Differential Specification](#Differential-Specification)\n",
    "  * [Modelling](#Modelling)\n",
    "  * [Simulation](#Simulation)\n",
    "\n",
    "\n",
    "3. [System Validation](#3.-System-Validation)\n"
   ]
  },
  {
   "cell_type": "markdown",
   "id": "446e9479",
   "metadata": {},
   "source": [
    "---"
   ]
  },
  {
   "cell_type": "markdown",
   "id": "2fa4343b",
   "metadata": {},
   "source": [
    "# 1. System Requirements"
   ]
  },
  {
   "cell_type": "markdown",
   "id": "0d10fdd3",
   "metadata": {},
   "source": [
    "<center><img src=\"images/requirements.png\" alt=\"Requirements\" width=\"70%\"/>"
   ]
  },
  {
   "cell_type": "markdown",
   "id": "3f96cf92",
   "metadata": {},
   "source": [
    "## Requirements Analysis"
   ]
  },
  {
   "cell_type": "markdown",
   "id": "3b89da73",
   "metadata": {},
   "source": [
    "**Goal:** Simulate a simple collateral-backed stablecoin and examine the effects of external price shocks\n",
    "\n",
    "**Scope:** Learn how simulations can provide insights into specific dynamics\n",
    "\n",
    "**Question:** How do price shocks affect loan liquidations?\n",
    "\n",
    "**Assumptions:**\n",
    "- The price of the underlying loan asset follows a simple stochastic process\n",
    "- The agents don't follow a certain strategy. They maintain their loan positions arbitrarily\n",
    "- Liquidations are triggered immediately and go into a sink"
   ]
  },
  {
   "cell_type": "markdown",
   "id": "e8d49570",
   "metadata": {},
   "source": [
    "## Visual System Mappings"
   ]
  },
  {
   "cell_type": "markdown",
   "id": "05bb1691",
   "metadata": {},
   "source": [
    "#### Entity Relationship Diagram"
   ]
  },
  {
   "cell_type": "markdown",
   "id": "8f6753ee",
   "metadata": {},
   "source": [
    "TODO"
   ]
  },
  {
   "cell_type": "markdown",
   "id": "4b9a5b94",
   "metadata": {},
   "source": [
    "#### Stock & Flow Diagram"
   ]
  },
  {
   "cell_type": "markdown",
   "id": "66cd8997",
   "metadata": {},
   "source": [
    "TODO"
   ]
  },
  {
   "cell_type": "markdown",
   "id": "a248259c",
   "metadata": {},
   "source": [
    "## Mathematical Specification"
   ]
  },
  {
   "cell_type": "markdown",
   "id": "25c96711",
   "metadata": {},
   "source": [
    "TODO"
   ]
  },
  {
   "cell_type": "markdown",
   "id": "62548e62",
   "metadata": {},
   "source": [
    "---"
   ]
  },
  {
   "cell_type": "markdown",
   "id": "e454096c",
   "metadata": {},
   "source": [
    "# 2. System Design"
   ]
  },
  {
   "cell_type": "markdown",
   "id": "198aeb8d",
   "metadata": {},
   "source": [
    "<center><img src=\"images/design.png\" alt=\"Design\" width=\"70%\"/>"
   ]
  },
  {
   "cell_type": "markdown",
   "id": "b56c9bdd",
   "metadata": {},
   "source": [
    "## Differential Specification"
   ]
  },
  {
   "cell_type": "markdown",
   "id": "b8a0dc81",
   "metadata": {},
   "source": [
    "TODO"
   ]
  },
  {
   "cell_type": "markdown",
   "id": "5c68b62b",
   "metadata": {},
   "source": [
    "## Modelling"
   ]
  },
  {
   "cell_type": "code",
   "execution_count": null,
   "id": "cfc4a96d",
   "metadata": {},
   "outputs": [],
   "source": [
    "##############\n",
    "# 0. IMPORTS #\n",
    "##############\n",
    "\n",
    "# Standard libraries\n",
    "import math\n",
    "from collections import Counter\n",
    "\n",
    "# Analysis and plotting modules\n",
    "import pandas as pd\n",
    "import plotly.express as px\n",
    "\n",
    "# cadCAD configuration modules\n",
    "from cadCAD.configuration.utils import config_sim\n",
    "from cadCAD.configuration import Experiment\n",
    "\n",
    "# cadCAD simulation engine modules\n",
    "from cadCAD.engine import ExecutionMode, ExecutionContext\n",
    "from cadCAD.engine import Executor\n",
    "\n",
    "# cadCAD stores simulation configuration in the configs list\n",
    "from cadCAD import configs"
   ]
  },
  {
   "cell_type": "code",
   "execution_count": null,
   "id": "0832335f",
   "metadata": {},
   "outputs": [],
   "source": [
    "######################\n",
    "# 1. STATE VARIABLES #\n",
    "######################\n",
    "\n",
    "initial_state = {\n",
    "    'population': 50, # number of sheep\n",
    "    'food': 1000 # tons of grass\n",
    "}\n",
    "\n",
    "\n",
    "########################\n",
    "# 2. SYSTEM PARAMETERS #\n",
    "########################\n",
    "\n",
    "system_params = {\n",
    "    'reproduction_rate': [0.01], # sheep per month\n",
    "    'consumption_rate': [0.01], # tons of grass per month\n",
    "}\n",
    "\n",
    "\n",
    "#######################\n",
    "# 3. POLICY FUNCTIONS #\n",
    "#######################\n",
    "\n",
    "def p_reproduction(params, substep, state_history, previous_state):\n",
    "    population_reproduction = params['reproduction_rate'] * previous_state['food']\n",
    "    return {'delta_population': population_reproduction}\n",
    "\n",
    "def p_consumption(params, substep, state_history, previous_state):\n",
    "    food_consumption = params['consumption_rate'] * previous_state['population']\n",
    "    return {'delta_food': -food_consumption}\n",
    "\n",
    "\n",
    "#############################\n",
    "# 4. STATE UPDATE FUNCTIONS #\n",
    "#############################\n",
    "\n",
    "def s_population(params, substep, state_history, previous_state, policy_input):\n",
    "    population = previous_state['population'] + policy_input['delta_population'] \n",
    "    return 'population', max(math.ceil(population), 0)\n",
    "\n",
    "def s_food(params, substep, state_history, previous_state, policy_input):\n",
    "    food = previous_state['food'] + policy_input['delta_food'] \n",
    "    return 'food', max(food, 0)\n",
    "\n",
    "\n",
    "##################################\n",
    "# 5. PARTIAL STATE UPDATE BLOCKS #\n",
    "##################################\n",
    "\n",
    "# Updates run in parallel\n",
    "partial_state_update_blocks = [\n",
    "    {\n",
    "        'policies': {\n",
    "            'reproduction': p_reproduction,\n",
    "            'consumption': p_consumption\n",
    "        },\n",
    "        'variables': {\n",
    "            'population': s_population,\n",
    "            'food': s_food\n",
    "        }\n",
    "    }\n",
    "]"
   ]
  },
  {
   "cell_type": "markdown",
   "id": "27951ce9",
   "metadata": {},
   "source": [
    "## Simulation"
   ]
  },
  {
   "cell_type": "code",
   "execution_count": null,
   "id": "2eceb892",
   "metadata": {},
   "outputs": [],
   "source": [
    "####################\n",
    "# 6. CONFIGURATION #\n",
    "####################\n",
    "\n",
    "# the config_sim function creates an object that informs cadCAD about the scope of the simulation\n",
    "sim_config = config_sim({\n",
    "    \"N\": 1, # the number of times we'll run the simulation\n",
    "    \"T\": range(600), # the number of timesteps the simulation will run for\n",
    "    \"M\": system_params # the parameters of the system\n",
    "})\n",
    "\n",
    "# Clear any prior configs\n",
    "del configs[:]\n",
    "\n",
    "# each cacCAD experiment has configuration options which\n",
    "# we will pass to the append_configs function to create our simulation configuration\n",
    "experiment = Experiment()\n",
    "experiment.append_configs(\n",
    "    initial_state = initial_state,\n",
    "    partial_state_update_blocks = partial_state_update_blocks,\n",
    "    sim_configs = sim_config\n",
    ")\n",
    "\n",
    "\n",
    "################\n",
    "# 7. EXECUTION #\n",
    "################\n",
    "\n",
    "exec_context = ExecutionContext() # decides how cadCAD should run a simulation (default: single or multi threaded)\n",
    "simulation = Executor(exec_context=exec_context, configs=experiment.configs)\n",
    "raw_result, tensor_field, sessions = simulation.execute() # execute the simulation\n",
    "\n",
    "\n",
    "####################################\n",
    "# 8. SIMULATION OUTPUT PREPARATION #\n",
    "####################################\n",
    "\n",
    "simulation_result = pd.DataFrame(raw_result)\n",
    "#simulation_result.head()\n",
    "\n",
    "\n",
    "##########################\n",
    "# 9. SIMULATION ANALYSIS #\n",
    "##########################\n",
    "\n",
    "pd.options.plotting.backend = \"plotly\"\n",
    "simulation_result.plot(\n",
    "    kind='line',\n",
    "    x='timestep',\n",
    "    y=['population','food']\n",
    ")"
   ]
  },
  {
   "cell_type": "markdown",
   "id": "b796dcfd",
   "metadata": {},
   "source": [
    "---"
   ]
  },
  {
   "cell_type": "markdown",
   "id": "e62eafdd",
   "metadata": {},
   "source": [
    "# 3. System Validation"
   ]
  },
  {
   "cell_type": "markdown",
   "id": "21d59595",
   "metadata": {},
   "source": [
    "<center><img src=\"images/validation.png\" alt=\"Validation\" width=\"70%\"/>"
   ]
  }
 ],
 "metadata": {
  "kernelspec": {
   "display_name": "Python 3 (ipykernel)",
   "language": "python",
   "name": "python3"
  },
  "language_info": {
   "codemirror_mode": {
    "name": "ipython",
    "version": 3
   },
   "file_extension": ".py",
   "mimetype": "text/x-python",
   "name": "python",
   "nbconvert_exporter": "python",
   "pygments_lexer": "ipython3",
   "version": "3.10.12"
  }
 },
 "nbformat": 4,
 "nbformat_minor": 5
}
