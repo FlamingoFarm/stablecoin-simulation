{
 "cells": [
  {
   "cell_type": "markdown",
   "id": "2dd2c3e0",
   "metadata": {},
   "source": [
    "# Stablecoin Simulation"
   ]
  },
  {
   "cell_type": "markdown",
   "id": "34830165",
   "metadata": {},
   "source": [
    "---"
   ]
  },
  {
   "cell_type": "markdown",
   "id": "aa3a6cb9",
   "metadata": {},
   "source": [
    "This notebook is part of a stablecoin project."
   ]
  },
  {
   "cell_type": "markdown",
   "id": "535734af",
   "metadata": {},
   "source": [
    "---"
   ]
  },
  {
   "cell_type": "markdown",
   "id": "7b58399e",
   "metadata": {},
   "source": [
    "# Table of Contents\n",
    "\n",
    "1. [System Requirements](#1.-System-Requirements)\n",
    "  * [Requirements Analysis](#Requirements-Analysis)\n",
    "  * [Visual System Mappings](#Visual-System-Mappings)\n",
    "  * [Mathematical Specification](#Mathematical-Specification)\n",
    "\n",
    "\n",
    "2. [System Design](#2.-System-Design)\n",
    "  * [Differential Specification](#Differential-Specification)\n",
    "  * [Modelling](#Modelling)\n",
    "  * [Simulation](#Simulation)\n"
   ]
  },
  {
   "cell_type": "markdown",
   "id": "446e9479",
   "metadata": {},
   "source": [
    "---"
   ]
  },
  {
   "cell_type": "markdown",
   "id": "2fa4343b",
   "metadata": {},
   "source": [
    "# 1. System Requirements"
   ]
  },
  {
   "cell_type": "markdown",
   "id": "3f96cf92",
   "metadata": {},
   "source": [
    "## Requirements Analysis"
   ]
  },
  {
   "cell_type": "markdown",
   "id": "3b89da73",
   "metadata": {},
   "source": [
    "**Goal:** Simulate a simple collateral-backed stablecoin and examine the effects of external price shocks\n",
    "\n",
    "**Scope:** Showcasing how simulations can offer insights into specific dynamics\n",
    "\n",
    "**Question:** How do price shocks affect vault liquidations?\n",
    "\n",
    "**Assumptions:**\n",
    "- The price of the underlying collateral asset follows a simple stochastic process\n",
    "- The _Vault Owners_ maintain their vault positions following a certain strategy\n",
    "- Liquidations are triggered immediately and the collateral flows into the so called _Residual Ecosystem_"
   ]
  },
  {
   "cell_type": "markdown",
   "id": "e8d49570",
   "metadata": {},
   "source": [
    "## Visual System Mappings"
   ]
  },
  {
   "cell_type": "markdown",
   "id": "05bb1691",
   "metadata": {},
   "source": [
    "#### Entity Relationship Diagram"
   ]
  },
  {
   "cell_type": "markdown",
   "id": "8f6753ee",
   "metadata": {},
   "source": [
    "TODO"
   ]
  },
  {
   "cell_type": "markdown",
   "id": "4b9a5b94",
   "metadata": {},
   "source": [
    "#### Stock & Flow Diagram"
   ]
  },
  {
   "cell_type": "markdown",
   "id": "66cd8997",
   "metadata": {},
   "source": [
    "TODO"
   ]
  },
  {
   "cell_type": "markdown",
   "id": "a248259c",
   "metadata": {},
   "source": [
    "## Mathematical Specification"
   ]
  },
  {
   "cell_type": "markdown",
   "id": "25c96711",
   "metadata": {},
   "source": [
    "TODO"
   ]
  },
  {
   "cell_type": "markdown",
   "id": "62548e62",
   "metadata": {},
   "source": [
    "---"
   ]
  },
  {
   "cell_type": "markdown",
   "id": "e454096c",
   "metadata": {},
   "source": [
    "# 2. System Design"
   ]
  },
  {
   "cell_type": "markdown",
   "id": "b56c9bdd",
   "metadata": {},
   "source": [
    "## Differential Specification"
   ]
  },
  {
   "cell_type": "markdown",
   "id": "b8a0dc81",
   "metadata": {},
   "source": [
    "TODO"
   ]
  },
  {
   "cell_type": "markdown",
   "id": "5c68b62b",
   "metadata": {},
   "source": [
    "## Modelling"
   ]
  },
  {
   "cell_type": "code",
   "execution_count": null,
   "id": "cfc4a96d",
   "metadata": {},
   "outputs": [],
   "source": [
    "##############\n",
    "# 0. IMPORTS #\n",
    "##############\n",
    "\n",
    "# Standard libraries\n",
    "import numpy as np\n",
    "import copy\n",
    "\n",
    "# model\n",
    "from model.state_variables import set_initial_state\n",
    "\n",
    "# Analysis and plotting modules\n",
    "import pandas as pd\n",
    "import plotly.express as px\n",
    "\n",
    "# radCAD modules\n",
    "from radcad import Model, Simulation, Experiment\n",
    "from radcad.engine import Engine, Backend\n"
   ]
  },
  {
   "cell_type": "code",
   "execution_count": null,
   "id": "1d3f2c16",
   "metadata": {},
   "outputs": [],
   "source": [
    "#############\n",
    "# 0b. UTILS #\n",
    "#############\n",
    "\n",
    "INITIAL_COLL_PRICE = 3000\n",
    "NUM_OWNERS = 100\n",
    "MIN_COLL_RATIO = 1.5\n",
    "LIQUIDATION_RATIO = 1/MIN_COLL_RATIO\n",
    "\n",
    "# RISKY, RISK-AVERSE, PASSIVE, IRRATIONAL\n",
    "STRATEGY_DISTRIBUTION = [0.0, 0.0, 0.0, 1.0]\n"
   ]
  },
  {
   "cell_type": "code",
   "execution_count": null,
   "id": "ea470a08",
   "metadata": {},
   "outputs": [],
   "source": [
    "######################\n",
    "# 1. STATE VARIABLES #\n",
    "######################\n",
    "\n",
    "initial_state = set_initial_state(INITIAL_COLL_PRICE, NUM_OWNERS, LIQUIDATION_RATIO, STRATEGY_DISTRIBUTION)\n",
    "initial_state\n",
    "\n",
    "########################\n",
    "# 2. SYSTEM PARAMETERS #\n",
    "########################\n",
    "\n",
    "system_params = {\n",
    "    \"initial_coll_price\": [INITIAL_COLL_PRICE],\n",
    "    \"num_owners\": [NUM_OWNERS],\n",
    "    \"liquidation_ratio\": [LIQUIDATION_RATIO],\n",
    "    \"stability_fee\": [0.05],\n",
    "    \n",
    "    # Price simulation parameters, values are defined per year\n",
    "    \"coll_price_drift\": [0.2],\n",
    "    \"coll_price_vol\": [0.3],\n",
    "    \"jump_rate\": [0.25],\n",
    "    \"jump_param_a\": [0.1],\n",
    "    \"jump_param_b\": [0.2],\n",
    "}"
   ]
  },
  {
   "cell_type": "code",
   "execution_count": null,
   "id": "31ec365f",
   "metadata": {},
   "outputs": [],
   "source": [
    "# This section is just to examine the jump diffusion price process\n",
    "\n",
    "from utils.price_simulation import jump_diffusion\n",
    "import matplotlib.pyplot as plt\n",
    "import seaborn as sns\n",
    "\n",
    "num_paths = 10\n",
    "timesteps = 365\n",
    "price_params = {\n",
    "    \"coll_price_drift\": 0.2,\n",
    "    \"coll_price_vol\": 0.3,\n",
    "    \"jump_rate\": 0.25,\n",
    "    \"jump_param_a\": 0.1,\n",
    "    \"jump_param_b\": 0.2,\n",
    "}\n",
    "simulated_price_paths = jump_diffusion(100, price_params, num_paths=num_paths, timesteps=timesteps)\n",
    "simulated_price_changes = np.diff(simulated_price_paths) / simulated_price_paths[:, 1:]\n",
    "\n",
    "# Choose palette, figure size, and define figure axes\n",
    "sns.set_theme(palette='viridis')\n",
    "plt.figure()\n",
    "width = 15\n",
    "height = 10\n",
    "plt.rcParams['figure.figsize'] = [width, height]\n",
    "fig, ax = plt.subplots(2,1)\n",
    "fig.tight_layout(pad=5.0)\n",
    "\n",
    "t = np.linspace(0, timesteps, timesteps+1)\n",
    "\n",
    "price_path = ax[0].plot(t, simulated_price_paths.transpose());\n",
    "price_changes = ax[1].plot(t[1:], simulated_price_changes.transpose());\n",
    "\n",
    "# Make drawn paths thinner by decreasing line width\n",
    "plt.setp(price_path, linewidth=1);\n",
    "\n",
    "# Set title (LaTeX notation) and x- and y- labels\n",
    "ax[0].set(title=\"Monte Carlo simulated stock price paths in Merton's jump diffusion model\\n$S_0$ = {}, $\\mu$ = {}, $\\sigma$ = {}, $a$ = {}, $b$ = {}, $\\lambda$ = {}, timesteps = {}, num_paths = {}\".format(100, price_params[\"coll_price_drift\"], price_params[\"coll_price_vol\"], price_params[\"jump_param_a\"], price_params[\"jump_param_b\"], price_params[\"jump_rate\"], timesteps, num_paths), xlabel='Time (days)', ylabel='Stock price')\n",
    "ax[1].set(title=\"Price changes in percent\")\n",
    "\n",
    "plt.show()"
   ]
  },
  {
   "cell_type": "code",
   "execution_count": null,
   "id": "0832335f",
   "metadata": {},
   "outputs": [],
   "source": [
    "\n",
    "##################################\n",
    "# 5. PARTIAL STATE UPDATE BLOCKS #\n",
    "##################################\n",
    "\n",
    "from model.policy_functions import p_coll_price, p_liquidation, p_vault_management\n",
    "from model.state_update_functions import s_collateral, s_owners, s_stability_pool\n",
    "\n",
    "\n",
    "state_update_blocks = [\n",
    "    {\n",
    "        'policies': {\n",
    "            'coll_price': p_coll_price\n",
    "        },\n",
    "        'variables': {\n",
    "            'collateral': s_collateral,\n",
    "        }\n",
    "    },\n",
    "    {\n",
    "        'policies': {'liquidation': p_liquidation},\n",
    "        'variables': {\n",
    "            'stability_pool': s_stability_pool,\n",
    "            'owners': s_owners\n",
    "        }\n",
    "    },\n",
    "        {\n",
    "        'policies': {'vault_management': p_vault_management},\n",
    "        'variables': {\n",
    "            'stability_pool': s_stability_pool,\n",
    "            'owners': s_owners\n",
    "        }\n",
    "    }\n",
    "]"
   ]
  },
  {
   "cell_type": "markdown",
   "id": "27951ce9",
   "metadata": {},
   "source": [
    "## Simulation"
   ]
  },
  {
   "cell_type": "code",
   "execution_count": null,
   "id": "2eceb892",
   "metadata": {},
   "outputs": [],
   "source": [
    "####################\n",
    "# 6. CONFIGURATION #\n",
    "####################\n",
    "\n",
    "model = Model(\n",
    "    initial_state=initial_state,\n",
    "    state_update_blocks=state_update_blocks,\n",
    "    params=system_params\n",
    ")\n",
    "\n",
    "simulation = Simulation(\n",
    "    model=model,\n",
    "    timesteps=300,  # Number of timesteps\n",
    "    runs=10  # Number of Monte Carlo Runs\n",
    ")\n",
    "\n",
    "experiment = Experiment([simulation])\n",
    "# Select the Pathos backend to avoid issues with multiprocessing and Jupyter Notebooks\n",
    "experiment.engine = Engine(backend=Backend.PATHOS, drop_substeps=True)\n",
    "\n",
    "\n",
    "################\n",
    "# 7. EXECUTION #\n",
    "################\n",
    "\n",
    "raw_result = experiment.run()\n"
   ]
  },
  {
   "cell_type": "code",
   "execution_count": null,
   "id": "a4e83f3b",
   "metadata": {},
   "outputs": [],
   "source": [
    "####################################\n",
    "# 8. SIMULATION OUTPUT PREPARATION #\n",
    "####################################\n",
    "\n",
    "simulation_result = pd.DataFrame(raw_result)\n",
    "\n",
    "simulation_result['coll_price'] = [t.price for t in simulation_result['collateral']]\n",
    "simulation_result['coll_price_change'] = simulation_result['coll_price'].pct_change()\n",
    "simulation_result['stability_pool_balance'] = [t.stable_coin_balance for t in simulation_result['stability_pool']]\n",
    "simulation_result['vault_collateral'] = [t[0].vault.collateral_balance for t in simulation_result['owners']]\n",
    "simulation_result['vault_debt'] = [t[0].vault.debt_balance for t in simulation_result['owners']]\n",
    "simulation_result['wallet_collateral'] = [t[0].wallet.collateral_balance for t in simulation_result['owners']]\n",
    "simulation_result['wallet_stable_coin'] = [t[0].wallet.stable_coin_balance for t in simulation_result['owners']]\n",
    "# simulation_result.drop(columns=['owners', 'collateral', 'stability_pool'], inplace=True)\n",
    "\n",
    "simulation_result.head(10)"
   ]
  },
  {
   "cell_type": "code",
   "execution_count": null,
   "id": "02751357",
   "metadata": {},
   "outputs": [],
   "source": [
    "###################################################\n",
    "# 9. SIMULATION ANALYSIS: COLLATERAL PRICE CHANGE #\n",
    "###################################################\n",
    "\n",
    "pd.options.plotting.backend = \"plotly\"\n",
    "simulation_result[simulation_result[\"timestep\"]!= 0].plot(\n",
    "    kind='line',\n",
    "    x='timestep',\n",
    "    y=['coll_price_change'],\n",
    "    title=\"Collateral Price Change Rate\",\n",
    "    color='run'\n",
    ")"
   ]
  },
  {
   "cell_type": "code",
   "execution_count": null,
   "id": "15fb6d65",
   "metadata": {},
   "outputs": [],
   "source": [
    "############################################\n",
    "# 9. SIMULATION ANALYSIS: COLLATERAL PRICE #\n",
    "############################################\n",
    "\n",
    "pd.options.plotting.backend = \"plotly\"\n",
    "simulation_result.plot(\n",
    "    kind='line',\n",
    "    x='timestep',\n",
    "    y=['coll_price'],\n",
    "    title=\"Collateral Price\",\n",
    "    color='run'\n",
    ")"
   ]
  },
  {
   "cell_type": "code",
   "execution_count": null,
   "id": "6e5ff8f2",
   "metadata": {},
   "outputs": [],
   "source": [
    "############################################\n",
    "# 9. SIMULATION ANALYSIS: STABILITY POOL #\n",
    "############################################\n",
    "\n",
    "pd.options.plotting.backend = \"plotly\"\n",
    "simulation_result.plot(\n",
    "    kind='line',\n",
    "    x='timestep',\n",
    "    y=['stability_pool_balance'],\n",
    "    title=\"Stability Pool Balance\",\n",
    "    color='run'\n",
    ")"
   ]
  },
  {
   "cell_type": "code",
   "execution_count": null,
   "id": "60e194ba-df2b-45af-889b-8b1bcd61449d",
   "metadata": {},
   "outputs": [],
   "source": [
    "############################################\n",
    "# 9. SIMULATION ANALYSIS: VAULT #\n",
    "############################################\n",
    "\n",
    "pd.options.plotting.backend = \"plotly\"\n",
    "simulation_result.plot(\n",
    "    kind='line',\n",
    "    x='timestep',\n",
    "    y=['vault_debt'],\n",
    "    title=\"Vault Debt\",\n",
    "    color='run'\n",
    ")"
   ]
  },
  {
   "cell_type": "code",
   "execution_count": null,
   "id": "22ab9b6f",
   "metadata": {},
   "outputs": [],
   "source": [
    "############################################\n",
    "# 9. SIMULATION ANALYSIS: VAULT #\n",
    "############################################\n",
    "\n",
    "pd.options.plotting.backend = \"plotly\"\n",
    "simulation_result.plot(\n",
    "    kind='line',\n",
    "    x='timestep',\n",
    "    y=['vault_collateral'],\n",
    "    title=\"Vault Collateral\",\n",
    "    color='run'\n",
    ")"
   ]
  }
 ],
 "metadata": {
  "kernelspec": {
   "display_name": "Python 3 (ipykernel)",
   "language": "python",
   "name": "python3"
  },
  "language_info": {
   "codemirror_mode": {
    "name": "ipython",
    "version": 3
   },
   "file_extension": ".py",
   "mimetype": "text/x-python",
   "name": "python",
   "nbconvert_exporter": "python",
   "pygments_lexer": "ipython3",
   "version": "3.12.2"
  }
 },
 "nbformat": 4,
 "nbformat_minor": 5
}
